{
 "cells": [
  {
   "cell_type": "markdown",
   "id": "fb634e07-3b04-4c98-80eb-d417ddb30f70",
   "metadata": {},
   "source": [
    "# Session 2  ---> h1"
   ]
  },
  {
   "cell_type": "markdown",
   "id": "ce3771eb-d271-4e4d-848f-8c351aeb4399",
   "metadata": {},
   "source": [
    "## Session 2  ---> h2"
   ]
  },
  {
   "cell_type": "markdown",
   "id": "8d0b769b-fc75-47d8-8bb6-3a0473ad6b76",
   "metadata": {},
   "source": [
    "### Session 2 ---> 3"
   ]
  },
  {
   "cell_type": "code",
   "execution_count": 10,
   "id": "d0f816ab-2512-424d-824c-f450f11b96a1",
   "metadata": {},
   "outputs": [
    {
     "name": "stdout",
     "output_type": "stream",
     "text": [
      "Hello world\n"
     ]
    }
   ],
   "source": [
    "# Session 2\n",
    "print(\"Hello world\")"
   ]
  },
  {
   "cell_type": "markdown",
   "id": "31e879d5-e87a-4efe-8733-3a8580fc71b2",
   "metadata": {},
   "source": [
    "print(\"Hello world\")"
   ]
  },
  {
   "cell_type": "code",
   "execution_count": 21,
   "id": "d2740f02-4f32-4409-83ad-1ada4daa864f",
   "metadata": {},
   "outputs": [
    {
     "data": {
      "text/plain": [
       "str"
      ]
     },
     "execution_count": 21,
     "metadata": {},
     "output_type": "execute_result"
    }
   ],
   "source": [
    "type(\"Hello world\")"
   ]
  },
  {
   "cell_type": "code",
   "execution_count": 33,
   "id": "c563dee7-cf65-4848-9bf2-f0cc02f2ea81",
   "metadata": {},
   "outputs": [
    {
     "name": "stdout",
     "output_type": "stream",
     "text": [
      "<class 'str'>\n"
     ]
    }
   ],
   "source": [
    "print(type(\"Hello world\"))"
   ]
  },
  {
   "cell_type": "code",
   "execution_count": 29,
   "id": "06e53ec7-4328-4b99-8957-c24d37b04d00",
   "metadata": {},
   "outputs": [
    {
     "ename": "SyntaxError",
     "evalue": "invalid syntax. Perhaps you forgot a comma? (2497053111.py, line 1)",
     "output_type": "error",
     "traceback": [
      "\u001b[1;36m  Cell \u001b[1;32mIn[29], line 1\u001b[1;36m\u001b[0m\n\u001b[1;33m    print(hello world)\u001b[0m\n\u001b[1;37m          ^\u001b[0m\n\u001b[1;31mSyntaxError\u001b[0m\u001b[1;31m:\u001b[0m invalid syntax. Perhaps you forgot a comma?\n"
     ]
    }
   ],
   "source": [
    "print(hello world)"
   ]
  },
  {
   "cell_type": "code",
   "execution_count": 31,
   "id": "12fb90d3-62cf-4b47-875d-eb46d4593d5e",
   "metadata": {},
   "outputs": [
    {
     "name": "stdout",
     "output_type": "stream",
     "text": [
      "123\n"
     ]
    }
   ],
   "source": [
    "print(123)"
   ]
  },
  {
   "cell_type": "code",
   "execution_count": 35,
   "id": "b56d4897-c789-454d-9720-22efb4b66655",
   "metadata": {},
   "outputs": [
    {
     "data": {
      "text/plain": [
       "int"
      ]
     },
     "execution_count": 35,
     "metadata": {},
     "output_type": "execute_result"
    }
   ],
   "source": [
    "type(123)"
   ]
  },
  {
   "cell_type": "code",
   "execution_count": 37,
   "id": "da3779ef-73bb-4425-97d7-5fe23d5d9f1f",
   "metadata": {},
   "outputs": [
    {
     "name": "stdout",
     "output_type": "stream",
     "text": [
      "123.3\n"
     ]
    }
   ],
   "source": [
    "print(123.3)"
   ]
  },
  {
   "cell_type": "code",
   "execution_count": 39,
   "id": "7a6ce74a-5f67-42ba-9125-85e5f17c721a",
   "metadata": {},
   "outputs": [
    {
     "data": {
      "text/plain": [
       "float"
      ]
     },
     "execution_count": 39,
     "metadata": {},
     "output_type": "execute_result"
    }
   ],
   "source": [
    "type(123.3)"
   ]
  },
  {
   "cell_type": "code",
   "execution_count": 41,
   "id": "fec72dee-c428-4196-abd1-8407f2882858",
   "metadata": {},
   "outputs": [
    {
     "name": "stdout",
     "output_type": "stream",
     "text": [
      "hello world\n"
     ]
    }
   ],
   "source": [
    "print('hello world')"
   ]
  },
  {
   "cell_type": "code",
   "execution_count": 43,
   "id": "8acc516c-f86d-413a-a3d6-d1dfc2897954",
   "metadata": {},
   "outputs": [
    {
     "ename": "SyntaxError",
     "evalue": "unterminated string literal (detected at line 1) (2649991245.py, line 1)",
     "output_type": "error",
     "traceback": [
      "\u001b[1;36m  Cell \u001b[1;32mIn[43], line 1\u001b[1;36m\u001b[0m\n\u001b[1;33m    \"We are learning\u001b[0m\n\u001b[1;37m    ^\u001b[0m\n\u001b[1;31mSyntaxError\u001b[0m\u001b[1;31m:\u001b[0m unterminated string literal (detected at line 1)\n"
     ]
    }
   ],
   "source": [
    "\"We are learning 133\n",
    "python\""
   ]
  },
  {
   "cell_type": "code",
   "execution_count": 53,
   "id": "dc444bed-2def-44ad-8824-32b31a835f47",
   "metadata": {},
   "outputs": [
    {
     "ename": "SyntaxError",
     "evalue": "unterminated string literal (detected at line 1) (326043979.py, line 1)",
     "output_type": "error",
     "traceback": [
      "\u001b[1;36m  Cell \u001b[1;32mIn[53], line 1\u001b[1;36m\u001b[0m\n\u001b[1;33m    'We are learning 13\u001b[0m\n\u001b[1;37m    ^\u001b[0m\n\u001b[1;31mSyntaxError\u001b[0m\u001b[1;31m:\u001b[0m unterminated string literal (detected at line 1)\n"
     ]
    }
   ],
   "source": [
    "'We are learning 13\n",
    "python'"
   ]
  },
  {
   "cell_type": "code",
   "execution_count": 47,
   "id": "874b183c-6311-42aa-a8e7-c7dd1c668036",
   "metadata": {},
   "outputs": [
    {
     "data": {
      "text/plain": [
       "str"
      ]
     },
     "execution_count": 47,
     "metadata": {},
     "output_type": "execute_result"
    }
   ],
   "source": [
    "type('123')"
   ]
  },
  {
   "cell_type": "code",
   "execution_count": 55,
   "id": "b8d45ded-6ec8-418a-9481-31f8c9c29703",
   "metadata": {},
   "outputs": [
    {
     "data": {
      "text/plain": [
       "'We are learning 13\\npython'"
      ]
     },
     "execution_count": 55,
     "metadata": {},
     "output_type": "execute_result"
    }
   ],
   "source": [
    "'''We are learning 13\n",
    "python'''"
   ]
  },
  {
   "cell_type": "code",
   "execution_count": 57,
   "id": "2208dc2f-e90b-4ace-aa48-6ddb905d0aa3",
   "metadata": {},
   "outputs": [
    {
     "name": "stdout",
     "output_type": "stream",
     "text": [
      "We are learning 13\n",
      "python\n"
     ]
    }
   ],
   "source": [
    "print('''We are learning 13\n",
    "python''')"
   ]
  },
  {
   "cell_type": "code",
   "execution_count": null,
   "id": "4fafe173-56b2-407c-8373-68d055f41705",
   "metadata": {},
   "outputs": [],
   "source": []
  }
 ],
 "metadata": {
  "kernelspec": {
   "display_name": "Python 3 (ipykernel)",
   "language": "python",
   "name": "python3"
  },
  "language_info": {
   "codemirror_mode": {
    "name": "ipython",
    "version": 3
   },
   "file_extension": ".py",
   "mimetype": "text/x-python",
   "name": "python",
   "nbconvert_exporter": "python",
   "pygments_lexer": "ipython3",
   "version": "3.12.4"
  }
 },
 "nbformat": 4,
 "nbformat_minor": 5
}
