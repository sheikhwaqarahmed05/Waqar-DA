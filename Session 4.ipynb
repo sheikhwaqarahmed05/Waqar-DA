{
 "cells": [
  {
   "cell_type": "markdown",
   "id": "d17f0994-65ff-431a-b2ab-10a478c41e45",
   "metadata": {},
   "source": [
    "## List"
   ]
  },
  {
   "cell_type": "code",
   "execution_count": 2,
   "id": "2f347e33-26a3-4eab-bc25-7af2d1a56b76",
   "metadata": {},
   "outputs": [
    {
     "ename": "NameError",
     "evalue": "name 'k' is not defined",
     "output_type": "error",
     "traceback": [
      "\u001b[1;31m---------------------------------------------------------------------------\u001b[0m",
      "\u001b[1;31mNameError\u001b[0m                                 Traceback (most recent call last)",
      "Cell \u001b[1;32mIn[2], line 1\u001b[0m\n\u001b[1;32m----> 1\u001b[0m \u001b[38;5;241m30\u001b[39m\u001b[38;5;241m+\u001b[39mk\n",
      "\u001b[1;31mNameError\u001b[0m: name 'k' is not defined"
     ]
    }
   ],
   "source": [
    "30+k"
   ]
  },
  {
   "cell_type": "code",
   "execution_count": 4,
   "id": "b1bf96f9-2170-485f-b008-ee13d45a2564",
   "metadata": {},
   "outputs": [
    {
     "ename": "TypeError",
     "evalue": "unsupported operand type(s) for +: 'int' and 'str'",
     "output_type": "error",
     "traceback": [
      "\u001b[1;31m---------------------------------------------------------------------------\u001b[0m",
      "\u001b[1;31mTypeError\u001b[0m                                 Traceback (most recent call last)",
      "Cell \u001b[1;32mIn[4], line 1\u001b[0m\n\u001b[1;32m----> 1\u001b[0m \u001b[38;5;241m30\u001b[39m \u001b[38;5;241m+\u001b[39m \u001b[38;5;124m'\u001b[39m\u001b[38;5;124mk\u001b[39m\u001b[38;5;124m'\u001b[39m\n",
      "\u001b[1;31mTypeError\u001b[0m: unsupported operand type(s) for +: 'int' and 'str'"
     ]
    }
   ],
   "source": [
    "30 + 'k'"
   ]
  },
  {
   "cell_type": "code",
   "execution_count": 6,
   "id": "48e1dbb8-27fe-4f72-b7d8-2765f10111c4",
   "metadata": {},
   "outputs": [
    {
     "data": {
      "text/plain": [
       "'30k'"
      ]
     },
     "execution_count": 6,
     "metadata": {},
     "output_type": "execute_result"
    }
   ],
   "source": [
    "'30'+'k'"
   ]
  },
  {
   "cell_type": "code",
   "execution_count": 8,
   "id": "06eae092-52e9-4d83-9038-b6164ebb6e29",
   "metadata": {},
   "outputs": [
    {
     "ename": "SyntaxError",
     "evalue": "invalid decimal literal (3185131825.py, line 1)",
     "output_type": "error",
     "traceback": [
      "\u001b[1;36m  Cell \u001b[1;32mIn[8], line 1\u001b[1;36m\u001b[0m\n\u001b[1;33m    salaries = [30k]\u001b[0m\n\u001b[1;37m                 ^\u001b[0m\n\u001b[1;31mSyntaxError\u001b[0m\u001b[1;31m:\u001b[0m invalid decimal literal\n"
     ]
    }
   ],
   "source": [
    "salaries = [30k]"
   ]
  },
  {
   "cell_type": "code",
   "execution_count": 10,
   "id": "ee41e390-38bc-4663-8cb2-4c37f40f979d",
   "metadata": {},
   "outputs": [],
   "source": [
    "salaries = ['30k','20k','65k','89k','25k']"
   ]
  },
  {
   "cell_type": "code",
   "execution_count": 14,
   "id": "87d7a1a8-b60e-4bdc-b771-9aa081d26747",
   "metadata": {},
   "outputs": [
    {
     "data": {
      "text/plain": [
       "['30k', '20k', '65k', '89k', '25k']"
      ]
     },
     "execution_count": 14,
     "metadata": {},
     "output_type": "execute_result"
    }
   ],
   "source": [
    "salaries"
   ]
  },
  {
   "cell_type": "code",
   "execution_count": 16,
   "id": "61ba8df6-aabb-4a67-990f-fd0b1a01b3f9",
   "metadata": {},
   "outputs": [
    {
     "data": {
      "text/plain": [
       "['khush', 20, 45.5, 'email', ['30k', '20k', '65k', '89k', '25k']]"
      ]
     },
     "execution_count": 16,
     "metadata": {},
     "output_type": "execute_result"
    }
   ],
   "source": [
    "bio = ['khush',20,45.5,'email',salaries]\n",
    "bio"
   ]
  },
  {
   "cell_type": "code",
   "execution_count": 18,
   "id": "da1c5195-a0eb-4f5f-9c07-493812196caf",
   "metadata": {},
   "outputs": [
    {
     "data": {
      "text/plain": [
       "['30k', '20k', '65k', '89k', '25k']"
      ]
     },
     "execution_count": 18,
     "metadata": {},
     "output_type": "execute_result"
    }
   ],
   "source": [
    "salaries"
   ]
  },
  {
   "cell_type": "code",
   "execution_count": 20,
   "id": "42de6da6-f0da-4644-a1bd-71b18a5bfa48",
   "metadata": {},
   "outputs": [
    {
     "data": {
      "text/plain": [
       "5"
      ]
     },
     "execution_count": 20,
     "metadata": {},
     "output_type": "execute_result"
    }
   ],
   "source": [
    "len(salaries)"
   ]
  },
  {
   "cell_type": "markdown",
   "id": "60fa2e50-ebf9-4743-a776-5dca7ff10800",
   "metadata": {},
   "source": [
    "## Indexing"
   ]
  },
  {
   "cell_type": "code",
   "execution_count": 23,
   "id": "8339aafc-4eb6-4886-a113-d69a30b3e1d6",
   "metadata": {},
   "outputs": [
    {
     "data": {
      "text/plain": [
       "['30k', '20k', '65k', '89k', '25k']"
      ]
     },
     "execution_count": 23,
     "metadata": {},
     "output_type": "execute_result"
    }
   ],
   "source": [
    "salaries"
   ]
  },
  {
   "cell_type": "code",
   "execution_count": 25,
   "id": "65583371-17b7-4ae4-a6f3-766353a24724",
   "metadata": {},
   "outputs": [
    {
     "data": {
      "text/plain": [
       "'89k'"
      ]
     },
     "execution_count": 25,
     "metadata": {},
     "output_type": "execute_result"
    }
   ],
   "source": [
    "salaries[3]"
   ]
  },
  {
   "cell_type": "code",
   "execution_count": 27,
   "id": "5f969ca3-3ec3-4ca3-b4a2-1a42479e5f83",
   "metadata": {},
   "outputs": [
    {
     "data": {
      "text/plain": [
       "'25k'"
      ]
     },
     "execution_count": 27,
     "metadata": {},
     "output_type": "execute_result"
    }
   ],
   "source": [
    "salaries[-1]"
   ]
  },
  {
   "cell_type": "code",
   "execution_count": 29,
   "id": "27033db9-2ac7-4a36-8c50-201863182444",
   "metadata": {},
   "outputs": [
    {
     "data": {
      "text/plain": [
       "'65k'"
      ]
     },
     "execution_count": 29,
     "metadata": {},
     "output_type": "execute_result"
    }
   ],
   "source": [
    "salaries[-3]"
   ]
  },
  {
   "cell_type": "code",
   "execution_count": 31,
   "id": "652dfc42-3a56-4512-96a6-90cdaad801a1",
   "metadata": {},
   "outputs": [
    {
     "data": {
      "text/plain": [
       "['30k', '20k', '65k', '89k', '25k']"
      ]
     },
     "execution_count": 31,
     "metadata": {},
     "output_type": "execute_result"
    }
   ],
   "source": [
    "salaries"
   ]
  },
  {
   "cell_type": "code",
   "execution_count": 33,
   "id": "119570b9-90b8-4589-8c0a-056b94ca856c",
   "metadata": {},
   "outputs": [
    {
     "ename": "TypeError",
     "evalue": "list indices must be integers or slices, not tuple",
     "output_type": "error",
     "traceback": [
      "\u001b[1;31m---------------------------------------------------------------------------\u001b[0m",
      "\u001b[1;31mTypeError\u001b[0m                                 Traceback (most recent call last)",
      "Cell \u001b[1;32mIn[33], line 1\u001b[0m\n\u001b[1;32m----> 1\u001b[0m salaries[\u001b[38;5;241m1\u001b[39m,\u001b[38;5;241m2\u001b[39m,\u001b[38;5;241m3\u001b[39m]\n",
      "\u001b[1;31mTypeError\u001b[0m: list indices must be integers or slices, not tuple"
     ]
    }
   ],
   "source": [
    "salaries[1,2,3]"
   ]
  },
  {
   "cell_type": "markdown",
   "id": "8fe5ee96-b222-4e70-aecf-871e5339e436",
   "metadata": {},
   "source": [
    "## Slicing"
   ]
  },
  {
   "cell_type": "code",
   "execution_count": 36,
   "id": "6c14e490-5dbd-4dcc-b5f6-b35994be404b",
   "metadata": {},
   "outputs": [
    {
     "data": {
      "text/plain": [
       "['30k', '20k', '65k', '89k', '25k']"
      ]
     },
     "execution_count": 36,
     "metadata": {},
     "output_type": "execute_result"
    }
   ],
   "source": [
    "salaries"
   ]
  },
  {
   "cell_type": "code",
   "execution_count": 38,
   "id": "ae23c1f8-7540-4b65-a85d-95c6a4707458",
   "metadata": {},
   "outputs": [
    {
     "data": {
      "text/plain": [
       "['20k', '65k']"
      ]
     },
     "execution_count": 38,
     "metadata": {},
     "output_type": "execute_result"
    }
   ],
   "source": [
    "salaries[1:3]"
   ]
  },
  {
   "cell_type": "code",
   "execution_count": 40,
   "id": "714f55d8-e416-4ccb-904e-ff7956ee700a",
   "metadata": {},
   "outputs": [
    {
     "data": {
      "text/plain": [
       "['20k', '65k', '89k']"
      ]
     },
     "execution_count": 40,
     "metadata": {},
     "output_type": "execute_result"
    }
   ],
   "source": [
    "salaries[1:4]"
   ]
  },
  {
   "cell_type": "code",
   "execution_count": 42,
   "id": "640621ee-0f5b-4ec1-92b0-d738baa19fe6",
   "metadata": {},
   "outputs": [
    {
     "ename": "IndexError",
     "evalue": "list index out of range",
     "output_type": "error",
     "traceback": [
      "\u001b[1;31m---------------------------------------------------------------------------\u001b[0m",
      "\u001b[1;31mIndexError\u001b[0m                                Traceback (most recent call last)",
      "Cell \u001b[1;32mIn[42], line 1\u001b[0m\n\u001b[1;32m----> 1\u001b[0m salaries[\u001b[38;5;241m5\u001b[39m]\n",
      "\u001b[1;31mIndexError\u001b[0m: list index out of range"
     ]
    }
   ],
   "source": [
    "salaries[5]"
   ]
  },
  {
   "cell_type": "code",
   "execution_count": 46,
   "id": "04c1fa5e-21d9-4fea-8873-186ea3598bf1",
   "metadata": {},
   "outputs": [
    {
     "data": {
      "text/plain": [
       "['30k', '20k', '65k', '89k', '25k']"
      ]
     },
     "execution_count": 46,
     "metadata": {},
     "output_type": "execute_result"
    }
   ],
   "source": [
    "salaries"
   ]
  },
  {
   "cell_type": "code",
   "execution_count": 48,
   "id": "eeaff833-d93d-46f8-be98-3afdb9869d9c",
   "metadata": {},
   "outputs": [
    {
     "data": {
      "text/plain": [
       "[]"
      ]
     },
     "execution_count": 48,
     "metadata": {},
     "output_type": "execute_result"
    }
   ],
   "source": [
    "salaries[-2:-5]"
   ]
  },
  {
   "cell_type": "code",
   "execution_count": 52,
   "id": "fd129f45-e679-49c0-a633-edc19546ad4b",
   "metadata": {},
   "outputs": [
    {
     "data": {
      "text/plain": [
       "['20k', '65k', '89k']"
      ]
     },
     "execution_count": 52,
     "metadata": {},
     "output_type": "execute_result"
    }
   ],
   "source": [
    "salaries[-4:-1]"
   ]
  },
  {
   "cell_type": "code",
   "execution_count": 54,
   "id": "8dea28b8-e6bb-43b7-afa1-71d19c65383a",
   "metadata": {},
   "outputs": [
    {
     "data": {
      "text/plain": [
       "['30k', '20k', '65k', '89k', '25k']"
      ]
     },
     "execution_count": 54,
     "metadata": {},
     "output_type": "execute_result"
    }
   ],
   "source": [
    "salaries"
   ]
  },
  {
   "cell_type": "code",
   "execution_count": 56,
   "id": "8fad9a73-9182-4882-a941-11c9db52c41d",
   "metadata": {},
   "outputs": [
    {
     "data": {
      "text/plain": [
       "['20k', '65k', '89k', '25k']"
      ]
     },
     "execution_count": 56,
     "metadata": {},
     "output_type": "execute_result"
    }
   ],
   "source": [
    "salaries[1:]"
   ]
  },
  {
   "cell_type": "code",
   "execution_count": 58,
   "id": "2f20306f-5a21-457e-a0df-d1913b04385b",
   "metadata": {},
   "outputs": [
    {
     "data": {
      "text/plain": [
       "['30k', '20k', '65k']"
      ]
     },
     "execution_count": 58,
     "metadata": {},
     "output_type": "execute_result"
    }
   ],
   "source": [
    "salaries[:3]"
   ]
  },
  {
   "cell_type": "code",
   "execution_count": 64,
   "id": "27949c3f-527f-4a51-99dc-3eda9bf0abfb",
   "metadata": {},
   "outputs": [
    {
     "data": {
      "text/plain": [
       "list"
      ]
     },
     "execution_count": 64,
     "metadata": {},
     "output_type": "execute_result"
    }
   ],
   "source": [
    "type(salaries)"
   ]
  },
  {
   "cell_type": "code",
   "execution_count": 60,
   "id": "06a719af-b1bf-4893-83a0-99bc14972c7c",
   "metadata": {},
   "outputs": [
    {
     "ename": "NameError",
     "evalue": "name 'List' is not defined",
     "output_type": "error",
     "traceback": [
      "\u001b[1;31m---------------------------------------------------------------------------\u001b[0m",
      "\u001b[1;31mNameError\u001b[0m                                 Traceback (most recent call last)",
      "Cell \u001b[1;32mIn[60], line 1\u001b[0m\n\u001b[1;32m----> 1\u001b[0m \u001b[38;5;28mdir\u001b[39m(List)\n",
      "\u001b[1;31mNameError\u001b[0m: name 'List' is not defined"
     ]
    }
   ],
   "source": [
    "dir(List)"
   ]
  },
  {
   "cell_type": "code",
   "execution_count": 66,
   "id": "667c680e-adc4-4d9d-b341-027cd0b17811",
   "metadata": {
    "scrolled": true
   },
   "outputs": [
    {
     "data": {
      "text/plain": [
       "['__add__',\n",
       " '__class__',\n",
       " '__class_getitem__',\n",
       " '__contains__',\n",
       " '__delattr__',\n",
       " '__delitem__',\n",
       " '__dir__',\n",
       " '__doc__',\n",
       " '__eq__',\n",
       " '__format__',\n",
       " '__ge__',\n",
       " '__getattribute__',\n",
       " '__getitem__',\n",
       " '__getstate__',\n",
       " '__gt__',\n",
       " '__hash__',\n",
       " '__iadd__',\n",
       " '__imul__',\n",
       " '__init__',\n",
       " '__init_subclass__',\n",
       " '__iter__',\n",
       " '__le__',\n",
       " '__len__',\n",
       " '__lt__',\n",
       " '__mul__',\n",
       " '__ne__',\n",
       " '__new__',\n",
       " '__reduce__',\n",
       " '__reduce_ex__',\n",
       " '__repr__',\n",
       " '__reversed__',\n",
       " '__rmul__',\n",
       " '__setattr__',\n",
       " '__setitem__',\n",
       " '__sizeof__',\n",
       " '__str__',\n",
       " '__subclasshook__',\n",
       " 'append',\n",
       " 'clear',\n",
       " 'copy',\n",
       " 'count',\n",
       " 'extend',\n",
       " 'index',\n",
       " 'insert',\n",
       " 'pop',\n",
       " 'remove',\n",
       " 'reverse',\n",
       " 'sort']"
      ]
     },
     "execution_count": 66,
     "metadata": {},
     "output_type": "execute_result"
    }
   ],
   "source": [
    "dir(list)"
   ]
  },
  {
   "cell_type": "code",
   "execution_count": 68,
   "id": "6f456dd3-7531-424e-8c83-161c8ac6737e",
   "metadata": {},
   "outputs": [
    {
     "data": {
      "text/plain": [
       "['__add__',\n",
       " '__class__',\n",
       " '__class_getitem__',\n",
       " '__contains__',\n",
       " '__delattr__',\n",
       " '__delitem__',\n",
       " '__dir__',\n",
       " '__doc__',\n",
       " '__eq__',\n",
       " '__format__',\n",
       " '__ge__',\n",
       " '__getattribute__',\n",
       " '__getitem__',\n",
       " '__getstate__',\n",
       " '__gt__',\n",
       " '__hash__',\n",
       " '__iadd__',\n",
       " '__imul__',\n",
       " '__init__',\n",
       " '__init_subclass__',\n",
       " '__iter__',\n",
       " '__le__',\n",
       " '__len__',\n",
       " '__lt__',\n",
       " '__mul__',\n",
       " '__ne__',\n",
       " '__new__',\n",
       " '__reduce__',\n",
       " '__reduce_ex__',\n",
       " '__repr__',\n",
       " '__reversed__',\n",
       " '__rmul__',\n",
       " '__setattr__',\n",
       " '__setitem__',\n",
       " '__sizeof__',\n",
       " '__str__',\n",
       " '__subclasshook__',\n",
       " 'append',\n",
       " 'clear',\n",
       " 'copy',\n",
       " 'count',\n",
       " 'extend',\n",
       " 'index',\n",
       " 'insert',\n",
       " 'pop',\n",
       " 'remove',\n",
       " 'reverse',\n",
       " 'sort']"
      ]
     },
     "execution_count": 68,
     "metadata": {},
     "output_type": "execute_result"
    }
   ],
   "source": [
    "dir([])"
   ]
  },
  {
   "cell_type": "code",
   "execution_count": null,
   "id": "8cbf009e-8dfb-415e-9f48-6555826620db",
   "metadata": {},
   "outputs": [],
   "source": []
  }
 ],
 "metadata": {
  "kernelspec": {
   "display_name": "Python 3 (ipykernel)",
   "language": "python",
   "name": "python3"
  },
  "language_info": {
   "codemirror_mode": {
    "name": "ipython",
    "version": 3
   },
   "file_extension": ".py",
   "mimetype": "text/x-python",
   "name": "python",
   "nbconvert_exporter": "python",
   "pygments_lexer": "ipython3",
   "version": "3.12.4"
  }
 },
 "nbformat": 4,
 "nbformat_minor": 5
}
