{
 "cells": [
  {
   "cell_type": "code",
   "execution_count": 1,
   "id": "c6239ff0-2ae5-4f57-9e06-49cc8bac38d0",
   "metadata": {},
   "outputs": [
    {
     "name": "stdout",
     "output_type": "stream",
     "text": [
      "hello world\n"
     ]
    }
   ],
   "source": [
    "print('hello world')"
   ]
  },
  {
   "cell_type": "code",
   "execution_count": 3,
   "id": "595cb1a0-02c9-4f39-8ed2-97bf649f9c48",
   "metadata": {},
   "outputs": [
    {
     "name": "stdout",
     "output_type": "stream",
     "text": [
      "hello world\n"
     ]
    }
   ],
   "source": [
    "print(\"hello world\")"
   ]
  },
  {
   "cell_type": "code",
   "execution_count": 5,
   "id": "0f5ca117-8f04-4d6a-a8d0-3832914fde3c",
   "metadata": {},
   "outputs": [
    {
     "ename": "SyntaxError",
     "evalue": "unterminated string literal (detected at line 1) (295983814.py, line 1)",
     "output_type": "error",
     "traceback": [
      "\u001b[1;36m  Cell \u001b[1;32mIn[5], line 1\u001b[1;36m\u001b[0m\n\u001b[1;33m    print('sara's book')\u001b[0m\n\u001b[1;37m                      ^\u001b[0m\n\u001b[1;31mSyntaxError\u001b[0m\u001b[1;31m:\u001b[0m unterminated string literal (detected at line 1)\n"
     ]
    }
   ],
   "source": [
    "print('sara's book')"
   ]
  },
  {
   "cell_type": "code",
   "execution_count": 7,
   "id": "66e56015-587a-488e-806f-63eb166c9303",
   "metadata": {},
   "outputs": [
    {
     "name": "stdout",
     "output_type": "stream",
     "text": [
      "sara's book\n"
     ]
    }
   ],
   "source": [
    "print(\"sara's book\")"
   ]
  },
  {
   "cell_type": "code",
   "execution_count": 9,
   "id": "3f9ad392-32e3-4107-8688-32d0180ce9ac",
   "metadata": {},
   "outputs": [
    {
     "ename": "SyntaxError",
     "evalue": "unterminated string literal (detected at line 1) (984155826.py, line 1)",
     "output_type": "error",
     "traceback": [
      "\u001b[1;36m  Cell \u001b[1;32mIn[9], line 1\u001b[1;36m\u001b[0m\n\u001b[1;33m    print(\"sara\"s book\")\u001b[0m\n\u001b[1;37m                      ^\u001b[0m\n\u001b[1;31mSyntaxError\u001b[0m\u001b[1;31m:\u001b[0m unterminated string literal (detected at line 1)\n"
     ]
    }
   ],
   "source": [
    "print(\"sara\"s book\")"
   ]
  },
  {
   "cell_type": "code",
   "execution_count": 11,
   "id": "d9f239cb-da42-4016-b5b9-82eab70d94ec",
   "metadata": {},
   "outputs": [
    {
     "name": "stdout",
     "output_type": "stream",
     "text": [
      "sara\"s book\n"
     ]
    }
   ],
   "source": [
    "print('sara\"s book')"
   ]
  },
  {
   "cell_type": "code",
   "execution_count": 15,
   "id": "e4fd5f28-5c73-46e3-b53c-ef70f4593d54",
   "metadata": {},
   "outputs": [
    {
     "data": {
      "text/plain": [
       "'khushboosaleem23@gmail.com'"
      ]
     },
     "execution_count": 15,
     "metadata": {},
     "output_type": "execute_result"
    }
   ],
   "source": [
    "'khushboosaleem23@gmail.com'"
   ]
  },
  {
   "cell_type": "code",
   "execution_count": 17,
   "id": "8629a722-3636-4831-870e-c0091aab10a3",
   "metadata": {},
   "outputs": [
    {
     "data": {
      "text/plain": [
       "'khushboosaleem23@gmail.com'"
      ]
     },
     "execution_count": 17,
     "metadata": {},
     "output_type": "execute_result"
    }
   ],
   "source": [
    "\"khushboosaleem23@gmail.com\""
   ]
  },
  {
   "cell_type": "code",
   "execution_count": 23,
   "id": "0fa65727-a9e9-4038-b10b-2ffcc02fba8a",
   "metadata": {},
   "outputs": [
    {
     "name": "stdout",
     "output_type": "stream",
     "text": [
      "khushboosaleem23@gmail.com\n"
     ]
    }
   ],
   "source": [
    "print(\"khushboosaleem23@gmail.com\")"
   ]
  },
  {
   "cell_type": "code",
   "execution_count": null,
   "id": "6d936973-5ced-428b-9667-64dd9fc66740",
   "metadata": {},
   "outputs": [],
   "source": [
    "# int\n",
    "# str\n",
    "# float"
   ]
  },
  {
   "cell_type": "markdown",
   "id": "b1ce51ad-e036-4d0f-b091-8afafd4b75d1",
   "metadata": {},
   "source": [
    "## Typecasting"
   ]
  },
  {
   "cell_type": "code",
   "execution_count": 26,
   "id": "d63eda1c-7878-4292-b2a3-26c4eda700fb",
   "metadata": {},
   "outputs": [
    {
     "data": {
      "text/plain": [
       "str"
      ]
     },
     "execution_count": 26,
     "metadata": {},
     "output_type": "execute_result"
    }
   ],
   "source": [
    "type(\"20000\")"
   ]
  },
  {
   "cell_type": "code",
   "execution_count": 28,
   "id": "906a5969-f9cf-4e59-8e7f-e92972cdfe65",
   "metadata": {},
   "outputs": [
    {
     "data": {
      "text/plain": [
       "20000"
      ]
     },
     "execution_count": 28,
     "metadata": {},
     "output_type": "execute_result"
    }
   ],
   "source": [
    "int('20000')"
   ]
  },
  {
   "cell_type": "code",
   "execution_count": 30,
   "id": "80e9a1a9-924c-4de7-8098-b05b907a5cc6",
   "metadata": {},
   "outputs": [
    {
     "data": {
      "text/plain": [
       "int"
      ]
     },
     "execution_count": 30,
     "metadata": {},
     "output_type": "execute_result"
    }
   ],
   "source": [
    "type(int('20000'))"
   ]
  },
  {
   "cell_type": "code",
   "execution_count": 36,
   "id": "dbb4c353-2210-465a-a6c5-f094c0812f94",
   "metadata": {},
   "outputs": [
    {
     "name": "stdout",
     "output_type": "stream",
     "text": [
      "<class 'float'>\n"
     ]
    }
   ],
   "source": [
    "print(type(float('50000.0')))"
   ]
  },
  {
   "cell_type": "code",
   "execution_count": 38,
   "id": "fe64f6a2-d31e-445e-ac36-ff364a398f13",
   "metadata": {},
   "outputs": [
    {
     "name": "stdout",
     "output_type": "stream",
     "text": [
      "<class 'str'>\n"
     ]
    }
   ],
   "source": [
    "print(type('50000.0'))"
   ]
  },
  {
   "cell_type": "code",
   "execution_count": 40,
   "id": "622bdb05-7cba-4969-b47a-2cdcb03e9dd1",
   "metadata": {},
   "outputs": [
    {
     "data": {
      "text/plain": [
       "20000.0"
      ]
     },
     "execution_count": 40,
     "metadata": {},
     "output_type": "execute_result"
    }
   ],
   "source": [
    "float(20000)"
   ]
  },
  {
   "cell_type": "code",
   "execution_count": 42,
   "id": "7c436847-1200-4e1e-898a-f38405ee5835",
   "metadata": {},
   "outputs": [
    {
     "data": {
      "text/plain": [
       "2000"
      ]
     },
     "execution_count": 42,
     "metadata": {},
     "output_type": "execute_result"
    }
   ],
   "source": [
    "int(2000.0)"
   ]
  },
  {
   "cell_type": "code",
   "execution_count": 44,
   "id": "93458ca7-18f5-49ca-bba5-12a3345537a9",
   "metadata": {},
   "outputs": [
    {
     "data": {
      "text/plain": [
       "123"
      ]
     },
     "execution_count": 44,
     "metadata": {},
     "output_type": "execute_result"
    }
   ],
   "source": [
    "int('123')"
   ]
  },
  {
   "cell_type": "code",
   "execution_count": 46,
   "id": "e5108ab9-5e2b-41da-b400-9d7a03a90ea2",
   "metadata": {},
   "outputs": [
    {
     "data": {
      "text/plain": [
       "456.0"
      ]
     },
     "execution_count": 46,
     "metadata": {},
     "output_type": "execute_result"
    }
   ],
   "source": [
    "float('456')"
   ]
  },
  {
   "cell_type": "code",
   "execution_count": 48,
   "id": "4761fbf3-bcfe-4950-9c01-70e7a7fecafd",
   "metadata": {
    "scrolled": true
   },
   "outputs": [
    {
     "ename": "ValueError",
     "evalue": "invalid literal for int() with base 10: '456.0'",
     "output_type": "error",
     "traceback": [
      "\u001b[1;31m---------------------------------------------------------------------------\u001b[0m",
      "\u001b[1;31mValueError\u001b[0m                                Traceback (most recent call last)",
      "Cell \u001b[1;32mIn[48], line 1\u001b[0m\n\u001b[1;32m----> 1\u001b[0m \u001b[38;5;28mint\u001b[39m(\u001b[38;5;124m'\u001b[39m\u001b[38;5;124m456.0\u001b[39m\u001b[38;5;124m'\u001b[39m)\n",
      "\u001b[1;31mValueError\u001b[0m: invalid literal for int() with base 10: '456.0'"
     ]
    }
   ],
   "source": [
    "int('456.0')"
   ]
  },
  {
   "cell_type": "code",
   "execution_count": null,
   "id": "140b5c28-6919-454d-8443-f24e164605ab",
   "metadata": {},
   "outputs": [],
   "source": [
    "# float()\n",
    "# int()\n",
    "# str()"
   ]
  },
  {
   "cell_type": "code",
   "execution_count": null,
   "id": "d4045d83-9059-488b-a38b-dde881261a67",
   "metadata": {},
   "outputs": [],
   "source": [
    "456"
   ]
  },
  {
   "cell_type": "code",
   "execution_count": 50,
   "id": "34d9a009-7db2-416d-83de-c5b3314178f0",
   "metadata": {},
   "outputs": [
    {
     "data": {
      "text/plain": [
       "'456'"
      ]
     },
     "execution_count": 50,
     "metadata": {},
     "output_type": "execute_result"
    }
   ],
   "source": [
    "str(456)"
   ]
  },
  {
   "cell_type": "code",
   "execution_count": 54,
   "id": "ce185abf-4c3b-4894-8cee-acd56012961b",
   "metadata": {},
   "outputs": [
    {
     "name": "stdout",
     "output_type": "stream",
     "text": [
      "<class 'str'>\n"
     ]
    }
   ],
   "source": [
    "print(type(str(456)))"
   ]
  },
  {
   "cell_type": "code",
   "execution_count": 56,
   "id": "a811c106-21f9-44c5-896c-2188cf999d60",
   "metadata": {
    "scrolled": true
   },
   "outputs": [
    {
     "ename": "NameError",
     "evalue": "name 'Print' is not defined",
     "output_type": "error",
     "traceback": [
      "\u001b[1;31m---------------------------------------------------------------------------\u001b[0m",
      "\u001b[1;31mNameError\u001b[0m                                 Traceback (most recent call last)",
      "Cell \u001b[1;32mIn[56], line 1\u001b[0m\n\u001b[1;32m----> 1\u001b[0m Print(\u001b[38;5;28mtype\u001b[39m(\u001b[38;5;28mstr\u001b[39m(\u001b[38;5;241m456\u001b[39m)))\n",
      "\u001b[1;31mNameError\u001b[0m: name 'Print' is not defined"
     ]
    }
   ],
   "source": [
    "Print(type(str(456)))"
   ]
  },
  {
   "cell_type": "code",
   "execution_count": 58,
   "id": "e17cc0d5-81b6-410e-b863-feb5c23d5781",
   "metadata": {},
   "outputs": [
    {
     "data": {
      "text/plain": [
       "'456.0'"
      ]
     },
     "execution_count": 58,
     "metadata": {},
     "output_type": "execute_result"
    }
   ],
   "source": [
    "str(456.0)"
   ]
  },
  {
   "cell_type": "code",
   "execution_count": 60,
   "id": "a06dde38-c283-4acb-ae2f-6eb2d9e46e34",
   "metadata": {},
   "outputs": [
    {
     "ename": "ValueError",
     "evalue": "invalid literal for int() with base 10: 'khush'",
     "output_type": "error",
     "traceback": [
      "\u001b[1;31m---------------------------------------------------------------------------\u001b[0m",
      "\u001b[1;31mValueError\u001b[0m                                Traceback (most recent call last)",
      "Cell \u001b[1;32mIn[60], line 1\u001b[0m\n\u001b[1;32m----> 1\u001b[0m \u001b[38;5;28mint\u001b[39m(\u001b[38;5;124m'\u001b[39m\u001b[38;5;124mkhush\u001b[39m\u001b[38;5;124m'\u001b[39m)\n",
      "\u001b[1;31mValueError\u001b[0m: invalid literal for int() with base 10: 'khush'"
     ]
    }
   ],
   "source": [
    "int('khush')"
   ]
  },
  {
   "cell_type": "code",
   "execution_count": 62,
   "id": "4ec41482-e46c-4256-82c9-fdf0793421de",
   "metadata": {},
   "outputs": [
    {
     "data": {
      "text/plain": [
       "'56'"
      ]
     },
     "execution_count": 62,
     "metadata": {},
     "output_type": "execute_result"
    }
   ],
   "source": [
    "'5'+'6'"
   ]
  },
  {
   "cell_type": "code",
   "execution_count": 64,
   "id": "da39602d-b9b1-46cf-a993-5cd3644176f2",
   "metadata": {},
   "outputs": [
    {
     "data": {
      "text/plain": [
       "11"
      ]
     },
     "execution_count": 64,
     "metadata": {},
     "output_type": "execute_result"
    }
   ],
   "source": [
    "5+6"
   ]
  },
  {
   "cell_type": "code",
   "execution_count": 66,
   "id": "b39d99f6-539f-40db-ab0e-72554895c3b3",
   "metadata": {},
   "outputs": [
    {
     "data": {
      "text/plain": [
       "'2000030000'"
      ]
     },
     "execution_count": 66,
     "metadata": {},
     "output_type": "execute_result"
    }
   ],
   "source": [
    "'20000'+'30000'"
   ]
  },
  {
   "cell_type": "code",
   "execution_count": 72,
   "id": "857491e7-0ff4-40f0-af70-f00b9b765c4e",
   "metadata": {},
   "outputs": [
    {
     "data": {
      "text/plain": [
       "'khush'"
      ]
     },
     "execution_count": 72,
     "metadata": {},
     "output_type": "execute_result"
    }
   ],
   "source": [
    "name = 'khush'\n",
    "name"
   ]
  },
  {
   "cell_type": "code",
   "execution_count": 70,
   "id": "ea0302bf-7b0f-4fd8-bf76-056ab4b60618",
   "metadata": {},
   "outputs": [
    {
     "data": {
      "text/plain": [
       "'khush'"
      ]
     },
     "execution_count": 70,
     "metadata": {},
     "output_type": "execute_result"
    }
   ],
   "source": [
    "name"
   ]
  },
  {
   "cell_type": "code",
   "execution_count": 78,
   "id": "180a95a1-bd5e-45ba-aed5-df8815b31d65",
   "metadata": {},
   "outputs": [],
   "source": [
    "name = \"khush\"\n",
    "age  = 24"
   ]
  },
  {
   "cell_type": "code",
   "execution_count": 80,
   "id": "3fb5119e-eaac-46c2-8bfe-b62a5cb8e1cd",
   "metadata": {},
   "outputs": [
    {
     "data": {
      "text/plain": [
       "24"
      ]
     },
     "execution_count": 80,
     "metadata": {},
     "output_type": "execute_result"
    }
   ],
   "source": [
    "age"
   ]
  },
  {
   "cell_type": "code",
   "execution_count": 82,
   "id": "425ffbf2-b8e2-43c5-a0a9-af1a087834e2",
   "metadata": {},
   "outputs": [
    {
     "data": {
      "text/plain": [
       "'khush'"
      ]
     },
     "execution_count": 82,
     "metadata": {},
     "output_type": "execute_result"
    }
   ],
   "source": [
    "name"
   ]
  },
  {
   "cell_type": "code",
   "execution_count": 84,
   "id": "c0f27e2c-dc43-4959-961e-62b5559785d7",
   "metadata": {},
   "outputs": [
    {
     "ename": "SyntaxError",
     "evalue": "invalid syntax (3853759419.py, line 1)",
     "output_type": "error",
     "traceback": [
      "\u001b[1;36m  Cell \u001b[1;32mIn[84], line 1\u001b[1;36m\u001b[0m\n\u001b[1;33m    my var = 123\u001b[0m\n\u001b[1;37m       ^\u001b[0m\n\u001b[1;31mSyntaxError\u001b[0m\u001b[1;31m:\u001b[0m invalid syntax\n"
     ]
    }
   ],
   "source": [
    "my var = 123\n",
    "my var"
   ]
  },
  {
   "cell_type": "code",
   "execution_count": 86,
   "id": "5ffe2b9d-2565-4f87-8067-a3e76c2cd386",
   "metadata": {},
   "outputs": [
    {
     "ename": "SyntaxError",
     "evalue": "cannot assign to expression here. Maybe you meant '==' instead of '='? (4174989201.py, line 1)",
     "output_type": "error",
     "traceback": [
      "\u001b[1;36m  Cell \u001b[1;32mIn[86], line 1\u001b[1;36m\u001b[0m\n\u001b[1;33m    my-var = 123\u001b[0m\n\u001b[1;37m    ^\u001b[0m\n\u001b[1;31mSyntaxError\u001b[0m\u001b[1;31m:\u001b[0m cannot assign to expression here. Maybe you meant '==' instead of '='?\n"
     ]
    }
   ],
   "source": [
    "my-var = 123\n",
    "my-var"
   ]
  },
  {
   "cell_type": "code",
   "execution_count": 88,
   "id": "2ab9619e-038b-4f82-9381-95db9cc3dbd6",
   "metadata": {},
   "outputs": [
    {
     "ename": "SyntaxError",
     "evalue": "invalid decimal literal (3717639743.py, line 1)",
     "output_type": "error",
     "traceback": [
      "\u001b[1;36m  Cell \u001b[1;32mIn[88], line 1\u001b[1;36m\u001b[0m\n\u001b[1;33m    2myvar  = 20\u001b[0m\n\u001b[1;37m    ^\u001b[0m\n\u001b[1;31mSyntaxError\u001b[0m\u001b[1;31m:\u001b[0m invalid decimal literal\n"
     ]
    }
   ],
   "source": [
    "2myvar  = 20\n",
    "2myvar"
   ]
  },
  {
   "cell_type": "code",
   "execution_count": 90,
   "id": "d30fc338-db0f-48f9-a4c9-c2c4576b812a",
   "metadata": {},
   "outputs": [
    {
     "data": {
      "text/plain": [
       "123"
      ]
     },
     "execution_count": 90,
     "metadata": {},
     "output_type": "execute_result"
    }
   ],
   "source": [
    "my_var = 123\n",
    "my_var"
   ]
  },
  {
   "cell_type": "code",
   "execution_count": 92,
   "id": "ce3b899c-68e0-4037-95bb-7e194953044c",
   "metadata": {},
   "outputs": [
    {
     "data": {
      "text/plain": [
       "123"
      ]
     },
     "execution_count": 92,
     "metadata": {},
     "output_type": "execute_result"
    }
   ],
   "source": [
    "myvar3 = 123\n",
    "myvar3"
   ]
  },
  {
   "cell_type": "code",
   "execution_count": 94,
   "id": "09a2be8a-e5b0-4e7f-bf9a-1150918c0810",
   "metadata": {},
   "outputs": [
    {
     "data": {
      "text/plain": [
       "'khush'"
      ]
     },
     "execution_count": 94,
     "metadata": {},
     "output_type": "execute_result"
    }
   ],
   "source": [
    "name"
   ]
  },
  {
   "cell_type": "code",
   "execution_count": 96,
   "id": "3b5bf0ce-4c99-438d-80ca-6b88c78bca08",
   "metadata": {},
   "outputs": [
    {
     "ename": "NameError",
     "evalue": "name 'Name' is not defined",
     "output_type": "error",
     "traceback": [
      "\u001b[1;31m---------------------------------------------------------------------------\u001b[0m",
      "\u001b[1;31mNameError\u001b[0m                                 Traceback (most recent call last)",
      "Cell \u001b[1;32mIn[96], line 1\u001b[0m\n\u001b[1;32m----> 1\u001b[0m Name\n",
      "\u001b[1;31mNameError\u001b[0m: name 'Name' is not defined"
     ]
    }
   ],
   "source": [
    "Name"
   ]
  },
  {
   "cell_type": "code",
   "execution_count": null,
   "id": "9a3cab21-8dcd-41b5-a9f3-f50ff35ff1a4",
   "metadata": {},
   "outputs": [],
   "source": [
    "x = 5"
   ]
  },
  {
   "cell_type": "code",
   "execution_count": 98,
   "id": "856732a3-4b93-48cf-8c0d-58e5bb8fcb9d",
   "metadata": {},
   "outputs": [
    {
     "ename": "NameError",
     "evalue": "name 'x' is not defined",
     "output_type": "error",
     "traceback": [
      "\u001b[1;31m---------------------------------------------------------------------------\u001b[0m",
      "\u001b[1;31mNameError\u001b[0m                                 Traceback (most recent call last)",
      "Cell \u001b[1;32mIn[98], line 1\u001b[0m\n\u001b[1;32m----> 1\u001b[0m x\n",
      "\u001b[1;31mNameError\u001b[0m: name 'x' is not defined"
     ]
    }
   ],
   "source": [
    "x"
   ]
  },
  {
   "cell_type": "code",
   "execution_count": 100,
   "id": "c6db05d4-abaf-4f4a-b1fe-e86e0993cc07",
   "metadata": {},
   "outputs": [],
   "source": [
    "x = 5"
   ]
  },
  {
   "cell_type": "code",
   "execution_count": 102,
   "id": "2442eec9-801a-436e-b4d4-99e7f7da570c",
   "metadata": {},
   "outputs": [
    {
     "data": {
      "text/plain": [
       "5"
      ]
     },
     "execution_count": 102,
     "metadata": {},
     "output_type": "execute_result"
    }
   ],
   "source": [
    "x"
   ]
  },
  {
   "cell_type": "code",
   "execution_count": 104,
   "id": "df794d9b-42de-42bf-9fd3-4d1d40bda292",
   "metadata": {},
   "outputs": [
    {
     "data": {
      "text/plain": [
       "15"
      ]
     },
     "execution_count": 104,
     "metadata": {},
     "output_type": "execute_result"
    }
   ],
   "source": [
    "x+10"
   ]
  },
  {
   "cell_type": "code",
   "execution_count": 110,
   "id": "4afed747-eac8-4a0d-930e-30e376e4975b",
   "metadata": {},
   "outputs": [
    {
     "data": {
      "text/plain": [
       "45"
      ]
     },
     "execution_count": 110,
     "metadata": {},
     "output_type": "execute_result"
    }
   ],
   "source": [
    "y = x+10   # 5+10 --> 15\n",
    "z = 30+y   # 30+15 --> 45\n",
    "z"
   ]
  },
  {
   "cell_type": "code",
   "execution_count": 114,
   "id": "f349bae1-5fbf-40ff-a58c-5c56b213ea66",
   "metadata": {},
   "outputs": [
    {
     "data": {
      "text/plain": [
       "5"
      ]
     },
     "execution_count": 114,
     "metadata": {},
     "output_type": "execute_result"
    }
   ],
   "source": [
    "x"
   ]
  },
  {
   "cell_type": "code",
   "execution_count": 116,
   "id": "7b7ed59e-0f9b-46b5-a99f-7892a0278baf",
   "metadata": {
    "scrolled": true
   },
   "outputs": [
    {
     "data": {
      "text/plain": [
       "15"
      ]
     },
     "execution_count": 116,
     "metadata": {},
     "output_type": "execute_result"
    }
   ],
   "source": [
    "y"
   ]
  },
  {
   "cell_type": "code",
   "execution_count": 112,
   "id": "35527bc0-6b52-4e28-b094-a32d31b1604d",
   "metadata": {},
   "outputs": [
    {
     "data": {
      "text/plain": [
       "20"
      ]
     },
     "execution_count": 112,
     "metadata": {},
     "output_type": "execute_result"
    }
   ],
   "source": [
    "x+y"
   ]
  },
  {
   "cell_type": "code",
   "execution_count": 118,
   "id": "98007a88-2be8-4afd-9e0f-4d358dc00555",
   "metadata": {},
   "outputs": [
    {
     "data": {
      "text/plain": [
       "-10"
      ]
     },
     "execution_count": 118,
     "metadata": {},
     "output_type": "execute_result"
    }
   ],
   "source": [
    "x-y       #5-15"
   ]
  },
  {
   "cell_type": "code",
   "execution_count": 120,
   "id": "030fc651-8dcf-4ce8-be78-46e74aa7368b",
   "metadata": {},
   "outputs": [
    {
     "data": {
      "text/plain": [
       "50"
      ]
     },
     "execution_count": 120,
     "metadata": {},
     "output_type": "execute_result"
    }
   ],
   "source": [
    "10*5"
   ]
  },
  {
   "cell_type": "code",
   "execution_count": 124,
   "id": "8768ddb3-761e-415e-8aa3-0875d3981a47",
   "metadata": {},
   "outputs": [
    {
     "data": {
      "text/plain": [
       "125"
      ]
     },
     "execution_count": 124,
     "metadata": {},
     "output_type": "execute_result"
    }
   ],
   "source": [
    "5**3    # 5*5*5"
   ]
  },
  {
   "cell_type": "code",
   "execution_count": 126,
   "id": "38b16aaf-5e09-48ff-bc6b-6667f3372f84",
   "metadata": {},
   "outputs": [
    {
     "data": {
      "text/plain": [
       "1.6666666666666667"
      ]
     },
     "execution_count": 126,
     "metadata": {},
     "output_type": "execute_result"
    }
   ],
   "source": [
    "5/3"
   ]
  },
  {
   "cell_type": "code",
   "execution_count": 128,
   "id": "4b495297-f5c0-4098-ba24-f25e5e1377bb",
   "metadata": {},
   "outputs": [
    {
     "data": {
      "text/plain": [
       "1"
      ]
     },
     "execution_count": 128,
     "metadata": {},
     "output_type": "execute_result"
    }
   ],
   "source": [
    "5//3"
   ]
  },
  {
   "cell_type": "code",
   "execution_count": 130,
   "id": "b7d9f97c-d0ac-497b-a05c-a75921984f31",
   "metadata": {},
   "outputs": [
    {
     "data": {
      "text/plain": [
       "2"
      ]
     },
     "execution_count": 130,
     "metadata": {},
     "output_type": "execute_result"
    }
   ],
   "source": [
    "5%3"
   ]
  },
  {
   "cell_type": "code",
   "execution_count": 132,
   "id": "d05ac20f-a7bf-4247-95c1-284846b6a018",
   "metadata": {},
   "outputs": [
    {
     "data": {
      "text/plain": [
       "20000"
      ]
     },
     "execution_count": 132,
     "metadata": {},
     "output_type": "execute_result"
    }
   ],
   "source": [
    "salary = 20000\n",
    "salary"
   ]
  },
  {
   "cell_type": "code",
   "execution_count": 134,
   "id": "1c24bf87-8a5a-4632-a89c-df73cc73e7da",
   "metadata": {},
   "outputs": [
    {
     "data": {
      "text/plain": [
       "25000"
      ]
     },
     "execution_count": 134,
     "metadata": {},
     "output_type": "execute_result"
    }
   ],
   "source": [
    "salary + 5000"
   ]
  },
  {
   "cell_type": "code",
   "execution_count": 136,
   "id": "ca5bd629-40cd-49e0-b54c-35b3c77649fa",
   "metadata": {},
   "outputs": [
    {
     "data": {
      "text/plain": [
       "20000"
      ]
     },
     "execution_count": 136,
     "metadata": {},
     "output_type": "execute_result"
    }
   ],
   "source": [
    "salary"
   ]
  },
  {
   "cell_type": "code",
   "execution_count": 138,
   "id": "479dfd52-dd97-4d11-8c87-a875f357c456",
   "metadata": {},
   "outputs": [],
   "source": [
    "salary = salary + 5000"
   ]
  },
  {
   "cell_type": "code",
   "execution_count": 140,
   "id": "758a7790-b1ef-4cca-b975-f210948a5904",
   "metadata": {},
   "outputs": [
    {
     "data": {
      "text/plain": [
       "25000"
      ]
     },
     "execution_count": 140,
     "metadata": {},
     "output_type": "execute_result"
    }
   ],
   "source": [
    "salary"
   ]
  },
  {
   "cell_type": "code",
   "execution_count": 142,
   "id": "b4fed784-8e93-41b6-a649-91af0f3f6d55",
   "metadata": {},
   "outputs": [
    {
     "data": {
      "text/plain": [
       "5"
      ]
     },
     "execution_count": 142,
     "metadata": {},
     "output_type": "execute_result"
    }
   ],
   "source": [
    "x"
   ]
  },
  {
   "cell_type": "code",
   "execution_count": 144,
   "id": "64e2ee6c-4708-4207-b93b-3fe28c0a1bd0",
   "metadata": {},
   "outputs": [
    {
     "data": {
      "text/plain": [
       "15"
      ]
     },
     "execution_count": 144,
     "metadata": {},
     "output_type": "execute_result"
    }
   ],
   "source": [
    "y"
   ]
  },
  {
   "cell_type": "code",
   "execution_count": 146,
   "id": "a9015d7a-a166-49ce-873f-70bf23daff2b",
   "metadata": {},
   "outputs": [
    {
     "data": {
      "text/plain": [
       "75"
      ]
     },
     "execution_count": 146,
     "metadata": {},
     "output_type": "execute_result"
    }
   ],
   "source": [
    "x*y"
   ]
  },
  {
   "cell_type": "code",
   "execution_count": 151,
   "id": "ddf3c3ba-b0e7-4951-b9ef-875ea01e3ed6",
   "metadata": {},
   "outputs": [
    {
     "name": "stdout",
     "output_type": "stream",
     "text": [
      "5\n",
      "15\n"
     ]
    }
   ],
   "source": [
    "print(x)\n",
    "print(y)"
   ]
  },
  {
   "cell_type": "code",
   "execution_count": 155,
   "id": "be7de481-e816-4e08-b9ee-ff06e6f8ab7f",
   "metadata": {},
   "outputs": [
    {
     "name": "stdout",
     "output_type": "stream",
     "text": [
      "5 15\n"
     ]
    }
   ],
   "source": [
    "print(x,y)"
   ]
  },
  {
   "cell_type": "code",
   "execution_count": null,
   "id": "bb0f0f87-5334-43b5-8f88-f4a9d3fe36c2",
   "metadata": {},
   "outputs": [],
   "source": []
  }
 ],
 "metadata": {
  "kernelspec": {
   "display_name": "Python 3 (ipykernel)",
   "language": "python",
   "name": "python3"
  },
  "language_info": {
   "codemirror_mode": {
    "name": "ipython",
    "version": 3
   },
   "file_extension": ".py",
   "mimetype": "text/x-python",
   "name": "python",
   "nbconvert_exporter": "python",
   "pygments_lexer": "ipython3",
   "version": "3.12.4"
  }
 },
 "nbformat": 4,
 "nbformat_minor": 5
}
